{
 "cells": [
  {
   "cell_type": "code",
   "execution_count": 1,
   "id": "82dba149-f7ac-4b0d-acc4-7c055dbfaf2b",
   "metadata": {},
   "outputs": [],
   "source": [
    "import os, pickle, sys\n",
    "from absl import logging\n",
    "import numpy as np\n",
    "import torch as pt\n",
    "import matplotlib.pyplot as plt\n",
    "from arguments import get_args\n",
    "logging.get_absl_handler().python_handler.stream = sys.stdout"
   ]
  },
  {
   "cell_type": "markdown",
   "id": "b80f9bef-c2dd-4744-9747-272a002b9951",
   "metadata": {},
   "source": [
    "Training, evaluation, optimization, and testing can be run different modes. These modes will be covered in this tutorial.\\\n",
    "First import the necessary modules and set some arguments for training."
   ]
  },
  {
   "cell_type": "code",
   "execution_count": 2,
   "id": "a91ff8c7-a02e-42c4-b9fa-469182d8f4ca",
   "metadata": {},
   "outputs": [
    {
     "name": "stderr",
     "output_type": "stream",
     "text": [
      "/opt/homebrew/lib/python3.9/site-packages/requests/__init__.py:102: RequestsDependencyWarning: urllib3 (1.26.9) or chardet (5.0.0)/charset_normalizer (2.0.12) doesn't match a supported version!\n",
      "  warnings.warn(\"urllib3 ({}) or chardet ({})/charset_normalizer ({}) doesn't match a supported \"\n"
     ]
    }
   ],
   "source": [
    "from config import get_config, get_path_dict\n",
    "from train import Trainer\n",
    "\n",
    "args = get_args()\n",
    "args = get_config(args)\n",
    "args.n_episodes = 100\n",
    "args.load_every = 10\n",
    "args.len_cross_val = 200\n",
    "args.len_dataset = 10\n",
    "args.batch_size = 4\n",
    "args.min_len_block = 1\n",
    "args.device = pt.device('cuda' if pt.cuda.is_available() else 'cpu')\n",
    "path_dict = get_path_dict(f'{args.train_dataset_id}')\n",
    "if not os.path.exists('results'):\n",
    "    os.makedirs('results')"
   ]
  },
  {
   "cell_type": "markdown",
   "id": "203ecfa0-7729-4172-ba8f-fe1f8b159fe8",
   "metadata": {},
   "source": [
    "All modules are controlled via the configurations defined in `config.py`. Apart from the paths for retrieving and saving data, the file defines the variables `train_type`, `eval_type`, `search_hp_type`, and `test_type`."
   ]
  },
  {
   "cell_type": "markdown",
   "id": "5c6ff63b",
   "metadata": {},
   "source": [
    "The `train_type` can be `basic`, `online`, or `prior`. Datapoints where the network detects the position with below-threshold accuracy are not included in the batch. The rate at which the threshold `args.pixel_cutoff` constricts over training is controlled by `args.T_pixel_cutoff`, and the maximum number of frames not included before continuing is controlled by `args.max_n_reject`.\\\n",
    "If `args.train_type = 'basic'`, training proceeds as in the basic tutorial.\\\n",
    "If `args.train_type = 'online'`, training proceeds by loading new data every iteration. This means `args.len_dataset = args.batch_size`\\\n",
    "If `args.train_type = 'prior'`, training proceeds by loading test statistics from data already evaluated by using `eval_baseline`. After loading, the datapoints where the baseline test returned above-threshold error values are used form prioritized re-training."
   ]
  },
  {
   "cell_type": "code",
   "execution_count": 3,
   "id": "8d4ca731-a868-40cc-819d-a901d37f6e7b",
   "metadata": {},
   "outputs": [
    {
     "name": "stderr",
     "output_type": "stream",
     "text": [
      "INFO:absl:iteration: 0 --- loss: 2.1647040843963623\n",
      "INFO:absl:cross validate\n",
      "INFO:absl:epoch: 0 --- loss: 2.1647040843963623 --- cross val ratio: 0.0\n",
      "INFO:absl:iteration: 50 --- loss: 0.005970073398202658\n",
      "INFO:absl:finis\n"
     ]
    }
   ],
   "source": [
    "args.train_type = 'online'\n",
    "trainer = Trainer(args, path_dict)\n",
    "trainer.train()"
   ]
  },
  {
   "cell_type": "code",
   "execution_count": 4,
   "id": "a787e1f9-73ee-4d3d-b8cd-f0b3e891098d",
   "metadata": {},
   "outputs": [
    {
     "data": {
      "image/png": "[encoded data removed]",
      "text/plain": [
       "<Figure size 432x288 with 1 Axes>"
      ]
     },
     "metadata": {
      "needs_background": "light"
     },
     "output_type": "display_data"
    }
   ],
   "source": [
    "losses = pickle.load(open('results/train_loss', 'rb'))\n",
    "plt.plot(losses, c='#065da4')\n",
    "plt.yscale('log')\n",
    "plt.xlabel('Iteration', labelpad=0, size=15)\n",
    "plt.ylabel('BCE', labelpad=0, size=15)\n",
    "plt.title('Training loss', pad=0, size=20);"
   ]
  },
  {
   "cell_type": "markdown",
   "id": "010cdb81-dcb3-4dc8-a97b-256b50b5c55a",
   "metadata": {},
   "source": [
    "Evaluation can be performed with and without using the model for inference.\\\n",
    "If `args.eval_type = model-based`, the function `eval_baseline()` is called and evaluation proceeds as described in the basic tutorial.\\\n",
    "If `args.eval_type = model-free`, evaluation is performed based on evaluation statistics from an earlier `eval_baseline()` call. The same data can be evaluated with different hyperparameter combinations without using the model, which increases inference time by a factor of 30. In this case, only the estimates of the coordinates are saved."
   ]
  },
  {
   "cell_type": "code",
   "execution_count": 5,
   "id": "99920f1c-0fea-46b9-9004-16af2aa42656",
   "metadata": {},
   "outputs": [
    {
     "name": "stderr",
     "output_type": "stream",
     "text": [
      "  0%|                                                     | 0/9 [00:00<?, ?it/s]/opt/homebrew/lib/python3.9/site-packages/torch/nn/functional.py:749: UserWarning: Note that order of the arguments: ceil_mode and return_indices will changeto match the args list in nn.MaxPool2d in a future release.\n",
      "  warnings.warn(\"Note that order of the arguments: ceil_mode and return_indices will change\"\n",
      "100%|█████████████████████████████████████████████| 9/9 [00:00<00:00, 22.48it/s]\n"
     ]
    }
   ],
   "source": [
    "from evaluate import eval_baseline, eval_opt\n",
    "from model import Model\n",
    "\n",
    "args = get_args()\n",
    "args = get_config(args)\n",
    "args.min_len_block = 1\n",
    "test_path_dict = get_path_dict(f'{args.train_dataset_id}')\n",
    "state_dict_path = f'{args.state_dict_path}'\n",
    "model = Model(args, core_type = args.core_type).to(args.device)\n",
    "model.load_state_dict(pt.load(state_dict_path, map_location=f'{args.device}'), strict=False)\n",
    "eval_baseline(args, test_path_dict, model)"
   ]
  },
  {
   "cell_type": "code",
   "execution_count": 6,
   "id": "e60dfb62",
   "metadata": {},
   "outputs": [
    {
     "name": "stderr",
     "output_type": "stream",
     "text": [
      "100%|███████████████████████████████████████████| 9/9 [00:00<00:00, 6940.38it/s]\n"
     ]
    }
   ],
   "source": [
    "from general_utils import get_hp\n",
    "correlation_scale, hard_boundary = get_hp(args.hp)\n",
    "eval_opt(args, test_path_dict, correlation_scale, hard_boundary)"
   ]
  },
  {
   "cell_type": "markdown",
   "id": "6378a716-6042-4222-aaf3-00066161f1bd",
   "metadata": {},
   "source": [
    "Hyperparameter search can also be performed with and without using the model for inference.\\\n",
    "If `args.search_type = model-based`, hyperparameter search is performed by random search of the space of available parameters defined by `args.corre` and `args.hard_boundary`. The model is being used, making the search procedure for large spaces prohibitively expensive.\\\n",
    "If `args.search_type = model-free`, search is performed based on evaluation statistics from an earlier `eval_baseline()` call. The search time becomes faster by a factor of 30 (about 60,000 iterations per second with a well-trained model on our servers), which allows for exhaustive random search over the whole space."
   ]
  },
  {
   "cell_type": "code",
   "execution_count": 7,
   "id": "8e265a01-2b92-4486-864f-11bee0334a74",
   "metadata": {},
   "outputs": [
    {
     "name": "stderr",
     "output_type": "stream",
     "text": [
      "INFO:absl:(6.158482110660267e-05, 60.0)\n",
      "100%|███████████████████████████████████████████| 9/9 [00:00<00:00, 9472.71it/s]\n",
      "INFO:absl:(0.0012742749857031347, 120.0)\n",
      "100%|███████████████████████████████████████████| 9/9 [00:00<00:00, 9967.98it/s]\n",
      "INFO:absl:(0.0012742749857031347, 80.0)\n",
      "100%|███████████████████████████████████████████| 9/9 [00:00<00:00, 9463.21it/s]\n",
      "INFO:absl:(0.0006951927961775605, 80.0)\n",
      "100%|██████████████████████████████████████████| 9/9 [00:00<00:00, 10079.77it/s]\n",
      "INFO:absl:(0.0012742749857031347, 70.0)\n",
      "100%|███████████████████████████████████████████| 9/9 [00:00<00:00, 9595.51it/s]\n",
      "INFO:absl:(0.5455594781168519, 80.0)\n",
      "100%|██████████████████████████████████████████| 9/9 [00:00<00:00, 10069.01it/s]\n",
      "INFO:absl:(0.00020691380811147902, 180.0)\n",
      "100%|███████████████████████████████████████████| 9/9 [00:00<00:00, 9383.23it/s]\n",
      "INFO:absl:(0.000379269019073225, 90.0)\n",
      "100%|██████████████████████████████████████████| 9/9 [00:00<00:00, 10125.73it/s]\n",
      "INFO:absl:(0.16237767391887217, 80.0)\n",
      "100%|███████████████████████████████████████████| 9/9 [00:00<00:00, 9832.96it/s]\n",
      "INFO:absl:(0.00020691380811147902, 170.0)\n",
      "100%|███████████████████████████████████████████| 9/9 [00:00<00:00, 9889.63it/s]\n"
     ]
    }
   ],
   "source": [
    "from search_hp import search_hp_model_free\n",
    "args.n_epochs_opt_hyperp = 10\n",
    "search_hp_model_free(args, test_path_dict, args.n_epochs_opt_hyperp)"
   ]
  },
  {
   "cell_type": "markdown",
   "id": "6cdc3491-0a89-448f-aa57-e26e5b136dc0",
   "metadata": {},
   "source": [
    "Testing can be performed by using the ground truth offsets with `args.test_type = 'test'`, or by simulating live tracking with `args.test_type = 'track'`, as described in the basic tutorial."
   ]
  },
  {
   "cell_type": "code",
   "execution_count": null,
   "id": "4813bde3-8f1d-4214-8982-5c2a9a766fc8",
   "metadata": {},
   "outputs": [],
   "source": []
  }
 ],
 "metadata": {
  "kernelspec": {
   "display_name": "Python 3 (ipykernel)",
   "language": "python",
   "name": "python3"
  },
  "language_info": {
   "codemirror_mode": {
    "name": "ipython",
    "version": 3
   },
   "file_extension": ".py",
   "mimetype": "text/x-python",
   "name": "python",
   "nbconvert_exporter": "python",
   "pygments_lexer": "ipython3",
   "version": "3.9.13"
  }
 },
 "nbformat": 4,
 "nbformat_minor": 5
}
